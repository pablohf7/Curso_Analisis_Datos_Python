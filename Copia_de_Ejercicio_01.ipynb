{
  "nbformat": 4,
  "nbformat_minor": 0,
  "metadata": {
    "colab": {
      "provenance": [],
      "authorship_tag": "ABX9TyP3H0wlTNZznpMdK8Z97qq6",
      "include_colab_link": true
    },
    "kernelspec": {
      "name": "python3",
      "display_name": "Python 3"
    },
    "language_info": {
      "name": "python"
    }
  },
  "cells": [
    {
      "cell_type": "markdown",
      "metadata": {
        "id": "view-in-github",
        "colab_type": "text"
      },
      "source": [
        "<a href=\"https://colab.research.google.com/github/pablohf7/Curso_Analisis_Datos_Python/blob/main/Copia_de_Ejercicio_01.ipynb\" target=\"_parent\"><img src=\"https://colab.research.google.com/assets/colab-badge.svg\" alt=\"Open In Colab\"/></a>"
      ]
    },
    {
      "cell_type": "markdown",
      "source": [
        "###PROGRAMACION CON PYTHON PARA EL ANALISIS DE DATOS"
      ],
      "metadata": {
        "id": "_oQ4AQfzwsyY"
      }
    },
    {
      "cell_type": "code",
      "execution_count": null,
      "metadata": {
        "colab": {
          "base_uri": "https://localhost:8080/"
        },
        "id": "Ts7pClTQwopK",
        "outputId": "ad9b46ba-17ab-46d8-a08e-9d7023092ca9"
      },
      "outputs": [
        {
          "output_type": "stream",
          "name": "stdout",
          "text": [
            "Hola Mundo\n"
          ]
        }
      ],
      "source": [
        "print(\"Hola Mundo\")"
      ]
    },
    {
      "cell_type": "code",
      "source": [
        "nombre = input(\"Ingresa tu nombre: \")  #Solicitamos tu nombre\n",
        "edad = int(input(\"Ingresa tu edad: \")) #Solicitamos tu edad\n",
        "print(f\"Hola tu nombre es: {nombre} y tu edad es: {edad} años\") #Imprimimos tu nombre y tu edad"
      ],
      "metadata": {
        "colab": {
          "base_uri": "https://localhost:8080/"
        },
        "id": "8wayLy4PxfXY",
        "outputId": "62dbd5af-400f-4dae-d7b7-30d211ac7e8f"
      },
      "execution_count": null,
      "outputs": [
        {
          "output_type": "stream",
          "name": "stdout",
          "text": [
            "Ingresa tu nombre: Pablo\n",
            "Ingresa tu edad: 45\n",
            "Hola tu nombre es: Pablo y tu edad es: 45 años\n"
          ]
        }
      ]
    },
    {
      "cell_type": "code",
      "source": [],
      "metadata": {
        "id": "v6gG6Wyd6aem"
      },
      "execution_count": null,
      "outputs": []
    },
    {
      "cell_type": "code",
      "source": [
        "nombre = input(\"Ingresa tu nombre: \")  #Solicitamos tu nombre\n",
        "edad = int(input(\"Ingresa tu edad: \")) #Solicitamos tu edad\n",
        "print(f\"Hola tu nombre es: {nombre} y tu edad es: {edad} años\") #Imprimimos tu nombre y tu edad"
      ],
      "metadata": {
        "colab": {
          "base_uri": "https://localhost:8080/"
        },
        "outputId": "6aaaac09-852c-43cb-b787-c5922dbc01f2",
        "id": "TAhFXqhB6a23"
      },
      "execution_count": null,
      "outputs": [
        {
          "output_type": "stream",
          "name": "stdout",
          "text": [
            "Ingresa tu nombre: Alberto\n",
            "Ingresa tu edad: 44\n",
            "Hola tu nombre es: Alberto y tu edad es: 44 años\n"
          ]
        }
      ]
    },
    {
      "cell_type": "code",
      "source": [],
      "metadata": {
        "id": "iltUSIuXyCZ4"
      },
      "execution_count": null,
      "outputs": []
    }
  ]
}