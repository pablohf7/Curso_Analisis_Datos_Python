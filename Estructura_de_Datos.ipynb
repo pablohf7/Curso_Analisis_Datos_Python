{
  "nbformat": 4,
  "nbformat_minor": 0,
  "metadata": {
    "colab": {
      "provenance": [],
      "authorship_tag": "ABX9TyPw7E+5rLRD5aFkzkv03NWC",
      "include_colab_link": true
    },
    "kernelspec": {
      "name": "python3",
      "display_name": "Python 3"
    },
    "language_info": {
      "name": "python"
    }
  },
  "cells": [
    {
      "cell_type": "markdown",
      "metadata": {
        "id": "view-in-github",
        "colab_type": "text"
      },
      "source": [
        "<a href=\"https://colab.research.google.com/github/pablohf7/Curso_Analisis_Datos_Python/blob/main/Estructura_de_Datos.ipynb\" target=\"_parent\"><img src=\"https://colab.research.google.com/assets/colab-badge.svg\" alt=\"Open In Colab\"/></a>"
      ]
    },
    {
      "cell_type": "code",
      "source": [
        "import pandas as pd\n",
        "import numpy as np\n",
        "import matplotlib.pyplot as plt"
      ],
      "metadata": {
        "id": "V1UNmWz6eNEe"
      },
      "execution_count": 2,
      "outputs": []
    },
    {
      "cell_type": "code",
      "source": [
        "#CREAR UNA LISTA DE AMIGOS\n",
        "amigos = ['Juan','Pedro','Carlos','Andres','Miguel']\n",
        "\n",
        "#PEDIR AL USUARIO QUE INGRESE UNA LETRA\n",
        "letra = input('Ingrese una letra: ')\n",
        "\n",
        "#FILTRAR LOS NOMBRES CON LA LETRA QUE SE INGRESA. NOTAR QUE SE PASA A MINUSCULA\n",
        "filtrados = [amigo for amigo in amigos if amigo.lower().startswith(letra.lower())]\n",
        "\n",
        "#MOSTRAR LOS NOMBRES FILTRADOS\n",
        "print('Nombres que comiezan con la letra', letra + ':')\n",
        "for amigo in filtrados:\n",
        "  print('-', amigo)"
      ],
      "metadata": {
        "colab": {
          "base_uri": "https://localhost:8080/"
        },
        "id": "QEp4TqeRG_no",
        "outputId": "c4c045b1-9898-4812-bdaa-27b021efed2d"
      },
      "execution_count": 17,
      "outputs": [
        {
          "output_type": "stream",
          "name": "stdout",
          "text": [
            "Ingrese una letra: m\n",
            "Nombres que comiezan con la letra m:\n",
            "- Miguel\n"
          ]
        }
      ]
    }
  ]
}