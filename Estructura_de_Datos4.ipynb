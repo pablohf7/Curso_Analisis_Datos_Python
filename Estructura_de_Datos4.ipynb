{
  "nbformat": 4,
  "nbformat_minor": 0,
  "metadata": {
    "colab": {
      "provenance": [],
      "authorship_tag": "ABX9TyN/MjETXi0TtiJl6UAZOTP8",
      "include_colab_link": true
    },
    "kernelspec": {
      "name": "python3",
      "display_name": "Python 3"
    },
    "language_info": {
      "name": "python"
    }
  },
  "cells": [
    {
      "cell_type": "markdown",
      "metadata": {
        "id": "view-in-github",
        "colab_type": "text"
      },
      "source": [
        "<a href=\"https://colab.research.google.com/github/pablohf7/Curso_Analisis_Datos_Python/blob/main/Estructura_de_Datos4.ipynb\" target=\"_parent\"><img src=\"https://colab.research.google.com/assets/colab-badge.svg\" alt=\"Open In Colab\"/></a>"
      ]
    },
    {
      "cell_type": "code",
      "execution_count": 5,
      "metadata": {
        "colab": {
          "base_uri": "https://localhost:8080/"
        },
        "id": "-Ubu1hVMKFgg",
        "outputId": "46616381-f6a8-4440-cf28-9e1e32be41e8"
      },
      "outputs": [
        {
          "output_type": "stream",
          "name": "stdout",
          "text": [
            "Ingrese el nombre del nuevo amigo: Pablo\n",
            "Ingrese la ciudad del nuevo amigo: Cucuta\n",
            "Este un diccionario completo de amigos y ciudades\n",
            " - El amigo Juan vive en la ciudad Bogotá\n",
            " - El amigo Maria vive en la ciudad Medellin\n",
            " - El amigo Luis vive en la ciudad Cali\n",
            " - El amigo Ana vive en la ciudad Barraquilla\n",
            " - El amigo Pablo vive en la ciudad Cucuta\n"
          ]
        }
      ],
      "source": [
        "#CREACION DEL DICCIONARIO CON LOS NOMBRES DE LOS AMIGOS\n",
        "amigos = {'Juan':'Bogotá', 'Maria':'Medellin','Luis':'Cali','Ana':'Barraquilla'}\n",
        "\n",
        "#PIDE A UN AMIGO QUE INGRESE SU NOMBRE Y LA CIUDAD DONDE VIVE\n",
        "nuevo_amigo = input('Ingrese el nombre del nuevo amigo: ')\n",
        "ciudad_nuevo_amigo = input('Ingrese la ciudad del nuevo amigo: ')\n",
        "amigos[nuevo_amigo]= ciudad_nuevo_amigo\n",
        "\n",
        "#MUESTRA EL DICCIONARIO COMPLETO\n",
        "print('Este un diccionario completo de amigos y ciudades')\n",
        "for amigo, ciudad in amigos.items():\n",
        "  print(f' - El amigo {amigo} vive en la ciudad{}')\n"
      ]
    },
    {
      "cell_type": "code",
      "source": [
        "#CREAR UN DICCIONARIO CON CON LOS NOMBRES DE TUS AMIGOS Y LAS EDADES\n",
        "amigos_edades = {'Alberto': 44, 'Pablo': 45, 'Luis': 44, 'Ramon': 43}\n",
        "\n",
        "#INGRESAR EDAD DE AMIGO\n",
        "edad_buscar = int(input('Por favor, ingrese la edad a buscar en su lista de amigos: '))\n",
        "\n",
        "#MUESTRA LOS AMIGOS QUE TIENEN LA EDAD BUSCADA\n",
        "print('Estos son los amigos con la edad buscada: ')\n",
        "for amigo,edad in amigos_edades.items():\n",
        "  if edad == edad_buscar:\n",
        "    print(f'- El amigo {amigo} tiene la edad de {edad} años')"
      ],
      "metadata": {
        "colab": {
          "base_uri": "https://localhost:8080/"
        },
        "id": "G6fS4YhzWzlh",
        "outputId": "6e9d4409-4fed-459b-d23b-2652eeb90483"
      },
      "execution_count": 8,
      "outputs": [
        {
          "output_type": "stream",
          "name": "stdout",
          "text": [
            "Por favor, ingrese la edad a buscar en su lista de amigos: 43\n",
            "Estos son los amigos con la edad buscada: \n",
            "- El amigo Ramon tiene la edad de 43 años\n"
          ]
        }
      ]
    },
    {
      "cell_type": "code",
      "source": [
        "#CREAR UN DICCIONARIO CON PELICULAS FAVORITAS Y EL AÑO DE LANZAMIENTO\n",
        "peliculas = {'El Padrino': 1972, 'Pulp Fition':1994, 'El Rey Leon':1994, 'Titanic':1997}\n",
        "\n",
        "#PEDIR AL USUARIO QUE AGREGUE NUEVA PELICULA CON SU AÑO DE LANZAMIENTO\n",
        "nueva_pelicula = input('Por favor, ingrese el nombre de la nueva pelicula: ')\n",
        "año_lanzamiento = int(input('Por favor, ingrese el año de lanzamiento de la nueva pelicula: '))\n",
        "peliculas[nueva_pelicula]= año_lanzamiento\n",
        "\n",
        "#PEDIR AL USUARIO QUE ELIMINE UNA PELICULA\n",
        "pelicula_eliminar = input('Por favor, ingrese el nombre de la pelicula a eliminar: ')\n",
        "del peliculas[pelicula_eliminar]\n",
        "\n",
        "#MUESTRA EL DICCIONARIO CON LAS PELICULAS ACTUALIZADAS\n",
        "print('Este es el diccionario actualizado de las peliculas con su año de lanzamiento: ')\n",
        "for pelicula, año in peliculas.items():\n",
        "  print(f'- La pelicula {pelicula} fue lanzada en el año {año} ')"
      ],
      "metadata": {
        "colab": {
          "base_uri": "https://localhost:8080/"
        },
        "id": "_Zc8WbFFgtQH",
        "outputId": "502a775f-35ce-45ec-cd18-4166679645d6"
      },
      "execution_count": 9,
      "outputs": [
        {
          "output_type": "stream",
          "name": "stdout",
          "text": [
            "Por favor, ingrese el nombre de la nueva pelicula: Rapido y Furioso\n",
            "Por favor, ingrese el año de lanzamiento de la nueva pelicula: 2009\n",
            "Por favor, ingrese el nombre de la pelicula a eliminar: El Padrino\n",
            "Este es el diccionario actualizado de las peliculas con su año de lanzamiento: \n",
            "- La pelicula Pulp Fition fue lanzada en el año 1994 \n",
            "- La pelicula El Rey Leon fue lanzada en el año 1994 \n",
            "- La pelicula Titanic fue lanzada en el año 1997 \n",
            "- La pelicula Rapido y Furioso fue lanzada en el año 2009 \n"
          ]
        }
      ]
    }
  ]
}