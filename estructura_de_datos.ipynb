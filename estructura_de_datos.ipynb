{
  "nbformat": 4,
  "nbformat_minor": 0,
  "metadata": {
    "colab": {
      "provenance": [],
      "authorship_tag": "ABX9TyP1njMeMn6jt1ZjyAsS6YmF",
      "include_colab_link": true
    },
    "kernelspec": {
      "name": "python3",
      "display_name": "Python 3"
    },
    "language_info": {
      "name": "python"
    }
  },
  "cells": [
    {
      "cell_type": "markdown",
      "metadata": {
        "id": "view-in-github",
        "colab_type": "text"
      },
      "source": [
        "<a href=\"https://colab.research.google.com/github/pablohf7/Curso_Analisis_Datos_Python/blob/main/estructura_de_datos.ipynb\" target=\"_parent\"><img src=\"https://colab.research.google.com/assets/colab-badge.svg\" alt=\"Open In Colab\"/></a>"
      ]
    },
    {
      "cell_type": "code",
      "source": [
        "import pandas as pd\n",
        "import numpy as np\n",
        "import matplotlib.pyplot as plt"
      ],
      "metadata": {
        "id": "V1UNmWz6eNEe"
      },
      "execution_count": null,
      "outputs": []
    },
    {
      "cell_type": "code",
      "source": [
        "#CREAR UNA LISTA DE AMIGOS\n",
        "amigos = ['Juan','Pedro','Carlos','Andres','Miguel']\n",
        "\n",
        "#PEDIR AL USUARIO QUE INGRESE UNA LETRA\n",
        "letra = input('Ingrese una letra: ')\n",
        "\n",
        "#FILTRAR LOS NOMBRES CON LA LETRA QUE SE INGRESA. NOTAR QUE SE PASA A MINUSCULA\n",
        "filtrados = [amigo for amigo in amigos if amigo.lower().startswith(letra.lower())]\n",
        "\n",
        "#MOSTRAR LOS NOMBRES FILTRADOS\n",
        "print('Nombres que comiezan con la letra', letra + ':')\n",
        "for amigo in filtrados:\n",
        "  print('-', amigo)"
      ],
      "metadata": {
        "colab": {
          "base_uri": "https://localhost:8080/"
        },
        "id": "QEp4TqeRG_no",
        "outputId": "c4c045b1-9898-4812-bdaa-27b021efed2d"
      },
      "execution_count": null,
      "outputs": [
        {
          "output_type": "stream",
          "name": "stdout",
          "text": [
            "Ingrese una letra: m\n",
            "Nombres que comiezan con la letra m:\n",
            "- Miguel\n"
          ]
        }
      ]
    },
    {
      "cell_type": "code",
      "source": [
        "#CREAR UNA LISTA DE PELICULAS FAVORITAS\n",
        "peliculas_favoritas = ['El Padrino', 'Titanic', 'El Señor de los Anillos', 'La Cenicienta' ]\n",
        "\n",
        "#PEDIR AL USUARIO QUE AGREGUE UNA PELICULA NUEVA A LA LISTA\n",
        "nueva_pelicula = input('Ingrese una nueva pelicula: ')\n",
        "peliculas_favoritas.append(nueva_pelicula)\n",
        "\n",
        "#PEDIR AL USUARIO QUE ELIMINE UNA PELICULA EXISTENTE EN LA LISTA\n",
        "pelicula_eliminar = input('Ingrese una pelicula que quiera eliminar de la lista: ')\n",
        "peliculas_favoritas.remove(pelicula_eliminar)\n",
        "\n",
        "#MUESTRA LA LISTA DE PELICULA ACTUALIZADA\n",
        "print('Lista de peliculas actualizadas')\n",
        "for pelicula in peliculas_favoritas:\n",
        "  print('*', pelicula)\n",
        "\n",
        "\n"
      ],
      "metadata": {
        "colab": {
          "base_uri": "https://localhost:8080/"
        },
        "id": "FZl7kUW8UqAr",
        "outputId": "7cf56a75-dae7-4b75-cad9-a91414c5a391"
      },
      "execution_count": null,
      "outputs": [
        {
          "output_type": "stream",
          "name": "stdout",
          "text": [
            "Ingrese una nueva pelicula: Acuaman\n",
            "Ingrese una pelicula que quiera eliminar de la lista: El Padrino\n",
            "Lista de peliculas actualizadas\n",
            "* Titanic\n",
            "* El Señor de los Anillos\n",
            "* La Cenicienta\n",
            "* Acuaman\n"
          ]
        }
      ]
    }
  ]
}