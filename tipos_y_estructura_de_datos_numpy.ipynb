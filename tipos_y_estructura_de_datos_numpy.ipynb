{
  "nbformat": 4,
  "nbformat_minor": 0,
  "metadata": {
    "colab": {
      "provenance": [],
      "authorship_tag": "ABX9TyOyxrHPTJUqA43ALm3ezKQ8",
      "include_colab_link": true
    },
    "kernelspec": {
      "name": "python3",
      "display_name": "Python 3"
    },
    "language_info": {
      "name": "python"
    }
  },
  "cells": [
    {
      "cell_type": "markdown",
      "metadata": {
        "id": "view-in-github",
        "colab_type": "text"
      },
      "source": [
        "<a href=\"https://colab.research.google.com/github/pablohf7/Curso_Analisis_Datos_Python/blob/main/tipos_y_estructura_de_datos_numpy.ipynb\" target=\"_parent\"><img src=\"https://colab.research.google.com/assets/colab-badge.svg\" alt=\"Open In Colab\"/></a>"
      ]
    },
    {
      "cell_type": "code",
      "execution_count": null,
      "metadata": {
        "id": "oqtDG8Ca0Oun"
      },
      "outputs": [],
      "source": [
        "import numpy as np"
      ]
    },
    {
      "cell_type": "code",
      "source": [
        "lista = [0,1,2,3,4]\n",
        "my_array = np.array(lista)\n",
        "my_array"
      ],
      "metadata": {
        "id": "IhquFWLW0o4T",
        "colab": {
          "base_uri": "https://localhost:8080/"
        },
        "outputId": "05e825f2-f1fb-4d5d-bdb7-3c6eab47e402"
      },
      "execution_count": null,
      "outputs": [
        {
          "output_type": "execute_result",
          "data": {
            "text/plain": [
              "array([0, 1, 2, 3, 4])"
            ]
          },
          "metadata": {},
          "execution_count": 5
        }
      ]
    },
    {
      "cell_type": "code",
      "source": [
        "lista1=[1,2,3]\n",
        "lista2=[10,20,30]\n",
        "lista3=[100,200,300]\n",
        "\n",
        "my_array1 = np.array(lista1)\n",
        "my_array2 = np.array(lista2)\n",
        "my_array3 = np.array(lista3)"
      ],
      "metadata": {
        "id": "M85usCxstpUR"
      },
      "execution_count": null,
      "outputs": []
    },
    {
      "cell_type": "code",
      "source": [
        "lista1+lista2+lista3"
      ],
      "metadata": {
        "colab": {
          "base_uri": "https://localhost:8080/"
        },
        "id": "QLRGm6BsuSqY",
        "outputId": "4539fb1c-f4df-44f2-9aac-4ca701baa5ff"
      },
      "execution_count": null,
      "outputs": [
        {
          "output_type": "execute_result",
          "data": {
            "text/plain": [
              "[1, 2, 3, 10, 20, 30, 100, 200, 300]"
            ]
          },
          "metadata": {},
          "execution_count": 7
        }
      ]
    },
    {
      "cell_type": "code",
      "source": [
        "my_array1+my_array2+my_array3\n"
      ],
      "metadata": {
        "colab": {
          "base_uri": "https://localhost:8080/"
        },
        "id": "8F-iWPVCuac3",
        "outputId": "081d6d67-8266-4462-cc3f-04d08c93ec58"
      },
      "execution_count": null,
      "outputs": [
        {
          "output_type": "execute_result",
          "data": {
            "text/plain": [
              "array([111, 222, 333])"
            ]
          },
          "metadata": {},
          "execution_count": 8
        }
      ]
    },
    {
      "cell_type": "code",
      "source": [
        "my_array1*my_array2"
      ],
      "metadata": {
        "colab": {
          "base_uri": "https://localhost:8080/"
        },
        "id": "d0ZOaLniwB4E",
        "outputId": "71db9ba7-8fe9-4eda-c68a-bb9e012ed01c"
      },
      "execution_count": null,
      "outputs": [
        {
          "output_type": "execute_result",
          "data": {
            "text/plain": [
              "array([10, 40, 90])"
            ]
          },
          "metadata": {},
          "execution_count": 9
        }
      ]
    },
    {
      "cell_type": "code",
      "source": [
        "#ESTADISTICAS CON NUMPY\n",
        "valores = np.array([1,3,4,5,1,5,7,3,5,2,8,9,2,2,3,5,1,7,3,6,1,1])\n",
        "print(np.mean(valores)) #Calcula la media de los valores\n",
        "print(np.median(valores))#Calvula la mediana de los valores\n",
        "print(np.std(valores))#Calcula la desviacion estandar de los valores\n",
        "print(np.var(valores))#Calcula la varianza de los valores\n",
        "print(np.percentile(valores,75))#Calcula el percentil 75\n",
        "print(np.percentile(valores,50))#Calcula el percentil 50\n",
        "print(np.percentile(valores,25))#Calcula el percentil 25\n",
        "print(np.percentile(valores,100))#Calcula el percentil 100\n"
      ],
      "metadata": {
        "colab": {
          "base_uri": "https://localhost:8080/"
        },
        "id": "DWlwOfDhyMof",
        "outputId": "256b3199-ac05-4f27-ebb8-a6d3c4959e39"
      },
      "execution_count": null,
      "outputs": [
        {
          "output_type": "stream",
          "name": "stdout",
          "text": [
            "3.8181818181818183\n",
            "3.0\n",
            "2.405228464604173\n",
            "5.785123966942148\n",
            "5.0\n",
            "3.0\n",
            "2.0\n",
            "9.0\n"
          ]
        }
      ]
    },
    {
      "cell_type": "code",
      "source": [],
      "metadata": {
        "id": "bYk5pDCpzS3E"
      },
      "execution_count": null,
      "outputs": []
    }
  ]
}